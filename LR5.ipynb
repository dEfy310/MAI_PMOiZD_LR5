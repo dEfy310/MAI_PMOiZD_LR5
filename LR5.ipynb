{
 "cells": [
  {
   "cell_type": "code",
   "execution_count": 1,
   "id": "initial_id",
   "metadata": {
    "collapsed": true,
    "ExecuteTime": {
     "end_time": "2024-01-13T12:44:42.928344100Z",
     "start_time": "2024-01-13T12:44:41.783603900Z"
    }
   },
   "outputs": [],
   "source": [
    "import numpy as np\n",
    "import pandas as pd\n",
    "import matplotlib.pyplot as plt\n",
    "df = pd.read_csv(\"data.csv\")\n",
    "pd.options.mode.chained_assignment = None"
   ]
  },
  {
   "cell_type": "markdown",
   "source": [
    "импорт необходимых библиотек, а также чтение файла."
   ],
   "metadata": {
    "collapsed": false
   },
   "id": "f0babeb42edb0e05"
  },
  {
   "cell_type": "code",
   "execution_count": 2,
   "outputs": [
    {
     "data": {
      "text/plain": "children               0\ndays_employed       2174\ndob_years              0\neducation              0\neducation_id           0\nfamily_status          0\nfamily_status_id       0\ngender                 0\nincome_type            0\ndebt                   0\ntotal_income        2174\npurpose                0\ndtype: int64"
     },
     "execution_count": 2,
     "metadata": {},
     "output_type": "execute_result"
    }
   ],
   "source": [
    "df.isnull().sum()"
   ],
   "metadata": {
    "collapsed": false,
    "ExecuteTime": {
     "end_time": "2024-01-13T12:44:42.945790400Z",
     "start_time": "2024-01-13T12:44:42.926343600Z"
    }
   },
   "id": "4d1a75ebf56474d7"
  },
  {
   "cell_type": "markdown",
   "source": [
    "Во всем файле найдены пустые значения только в двух столбцах, которые содержат информацию о количестве отработанных дней а также о ежемесячном доходе, из чего можно сделать вывод о том, что человек сейчас не трудоустроен, т.е. не может получать за это зарплату"
   ],
   "metadata": {
    "collapsed": false
   },
   "id": "b879871373fd54e8"
  },
  {
   "cell_type": "code",
   "execution_count": 3,
   "outputs": [
    {
     "data": {
      "text/plain": "na_days_employed_percent    10.099884\nna_total_income_percent     10.099884\ndtype: float64"
     },
     "execution_count": 3,
     "metadata": {},
     "output_type": "execute_result"
    }
   ],
   "source": [
    "data =  {'na_days_employed_percent': df['days_employed'].isnull().sum()/len(df['days_employed'])*100, 'na_total_income_percent':df['total_income'].isnull().sum()/len(df['total_income'])*100}\n",
    "df1 = pd.Series(data)\n",
    "df1"
   ],
   "metadata": {
    "collapsed": false,
    "ExecuteTime": {
     "end_time": "2024-01-13T12:44:42.947792Z",
     "start_time": "2024-01-13T12:44:42.941728400Z"
    }
   },
   "id": "97bda36fe399f626"
  },
  {
   "cell_type": "markdown",
   "source": [
    "рассчет доли количества пропусков от общего количества значений в столбце в процентах. Pandas позволяет нам увидеть готовую гистограмму нашего датафрейма, для этого необходимо надать на иконку графика в окне вывода отработанного блока кода, и мы увидим гистограмму нашего фрейма данных."
   ],
   "metadata": {
    "collapsed": false
   },
   "id": "111d88358cf54660"
  },
  {
   "cell_type": "markdown",
   "source": [
    "Заполнение данных медианным способом является лучшим решением для количественных переменных, так как на медиану не влияет посторонний \"шум\". К тому же, количество наших данных велико, поэтому медиана будет равняться среднему значению данных.  "
   ],
   "metadata": {
    "collapsed": false
   },
   "id": "7c2640d8c015500b"
  },
  {
   "cell_type": "code",
   "execution_count": 4,
   "outputs": [
    {
     "data": {
      "text/plain": "       children  days_employed  dob_years education  education_id  \\\n0             1    8437.673028         42    высшее             0   \n1             1    4024.803754         36   среднее             1   \n2             0    5623.422610         33   Среднее             1   \n3             3    4124.747207         32   среднее             1   \n4             0  340266.072047         53   среднее             1   \n...         ...            ...        ...       ...           ...   \n21520         1    4529.316663         43   среднее             1   \n21521         0  343937.404131         67   среднее             1   \n21522         1    2113.346888         38   среднее             1   \n21523         3    3112.481705         38   среднее             1   \n21524         2    1984.507589         40   среднее             1   \n\n          family_status  family_status_id gender income_type  debt  \\\n0       женат / замужем                 0      F   сотрудник     0   \n1       женат / замужем                 0      F   сотрудник     0   \n2       женат / замужем                 0      M   сотрудник     0   \n3       женат / замужем                 0      M   сотрудник     0   \n4      гражданский брак                 1      F   пенсионер     0   \n...                 ...               ...    ...         ...   ...   \n21520  гражданский брак                 1      F   компаньон     0   \n21521   женат / замужем                 0      F   пенсионер     0   \n21522  гражданский брак                 1      M   сотрудник     1   \n21523   женат / замужем                 0      M   сотрудник     1   \n21524   женат / замужем                 0      F   сотрудник     0   \n\n        total_income                       purpose  \n0      253875.639453                 покупка жилья  \n1      112080.014102       приобретение автомобиля  \n2      145885.952297                 покупка жилья  \n3      267628.550329    дополнительное образование  \n4      158616.077870               сыграть свадьбу  \n...              ...                           ...  \n21520  224791.862382             операции с жильем  \n21521  155999.806512          сделка с автомобилем  \n21522   89672.561153                  недвижимость  \n21523  244093.050500  на покупку своего автомобиля  \n21524   82047.418899         на покупку автомобиля  \n\n[21525 rows x 12 columns]",
      "text/html": "<div>\n<style scoped>\n    .dataframe tbody tr th:only-of-type {\n        vertical-align: middle;\n    }\n\n    .dataframe tbody tr th {\n        vertical-align: top;\n    }\n\n    .dataframe thead th {\n        text-align: right;\n    }\n</style>\n<table border=\"1\" class=\"dataframe\">\n  <thead>\n    <tr style=\"text-align: right;\">\n      <th></th>\n      <th>children</th>\n      <th>days_employed</th>\n      <th>dob_years</th>\n      <th>education</th>\n      <th>education_id</th>\n      <th>family_status</th>\n      <th>family_status_id</th>\n      <th>gender</th>\n      <th>income_type</th>\n      <th>debt</th>\n      <th>total_income</th>\n      <th>purpose</th>\n    </tr>\n  </thead>\n  <tbody>\n    <tr>\n      <th>0</th>\n      <td>1</td>\n      <td>8437.673028</td>\n      <td>42</td>\n      <td>высшее</td>\n      <td>0</td>\n      <td>женат / замужем</td>\n      <td>0</td>\n      <td>F</td>\n      <td>сотрудник</td>\n      <td>0</td>\n      <td>253875.639453</td>\n      <td>покупка жилья</td>\n    </tr>\n    <tr>\n      <th>1</th>\n      <td>1</td>\n      <td>4024.803754</td>\n      <td>36</td>\n      <td>среднее</td>\n      <td>1</td>\n      <td>женат / замужем</td>\n      <td>0</td>\n      <td>F</td>\n      <td>сотрудник</td>\n      <td>0</td>\n      <td>112080.014102</td>\n      <td>приобретение автомобиля</td>\n    </tr>\n    <tr>\n      <th>2</th>\n      <td>0</td>\n      <td>5623.422610</td>\n      <td>33</td>\n      <td>Среднее</td>\n      <td>1</td>\n      <td>женат / замужем</td>\n      <td>0</td>\n      <td>M</td>\n      <td>сотрудник</td>\n      <td>0</td>\n      <td>145885.952297</td>\n      <td>покупка жилья</td>\n    </tr>\n    <tr>\n      <th>3</th>\n      <td>3</td>\n      <td>4124.747207</td>\n      <td>32</td>\n      <td>среднее</td>\n      <td>1</td>\n      <td>женат / замужем</td>\n      <td>0</td>\n      <td>M</td>\n      <td>сотрудник</td>\n      <td>0</td>\n      <td>267628.550329</td>\n      <td>дополнительное образование</td>\n    </tr>\n    <tr>\n      <th>4</th>\n      <td>0</td>\n      <td>340266.072047</td>\n      <td>53</td>\n      <td>среднее</td>\n      <td>1</td>\n      <td>гражданский брак</td>\n      <td>1</td>\n      <td>F</td>\n      <td>пенсионер</td>\n      <td>0</td>\n      <td>158616.077870</td>\n      <td>сыграть свадьбу</td>\n    </tr>\n    <tr>\n      <th>...</th>\n      <td>...</td>\n      <td>...</td>\n      <td>...</td>\n      <td>...</td>\n      <td>...</td>\n      <td>...</td>\n      <td>...</td>\n      <td>...</td>\n      <td>...</td>\n      <td>...</td>\n      <td>...</td>\n      <td>...</td>\n    </tr>\n    <tr>\n      <th>21520</th>\n      <td>1</td>\n      <td>4529.316663</td>\n      <td>43</td>\n      <td>среднее</td>\n      <td>1</td>\n      <td>гражданский брак</td>\n      <td>1</td>\n      <td>F</td>\n      <td>компаньон</td>\n      <td>0</td>\n      <td>224791.862382</td>\n      <td>операции с жильем</td>\n    </tr>\n    <tr>\n      <th>21521</th>\n      <td>0</td>\n      <td>343937.404131</td>\n      <td>67</td>\n      <td>среднее</td>\n      <td>1</td>\n      <td>женат / замужем</td>\n      <td>0</td>\n      <td>F</td>\n      <td>пенсионер</td>\n      <td>0</td>\n      <td>155999.806512</td>\n      <td>сделка с автомобилем</td>\n    </tr>\n    <tr>\n      <th>21522</th>\n      <td>1</td>\n      <td>2113.346888</td>\n      <td>38</td>\n      <td>среднее</td>\n      <td>1</td>\n      <td>гражданский брак</td>\n      <td>1</td>\n      <td>M</td>\n      <td>сотрудник</td>\n      <td>1</td>\n      <td>89672.561153</td>\n      <td>недвижимость</td>\n    </tr>\n    <tr>\n      <th>21523</th>\n      <td>3</td>\n      <td>3112.481705</td>\n      <td>38</td>\n      <td>среднее</td>\n      <td>1</td>\n      <td>женат / замужем</td>\n      <td>0</td>\n      <td>M</td>\n      <td>сотрудник</td>\n      <td>1</td>\n      <td>244093.050500</td>\n      <td>на покупку своего автомобиля</td>\n    </tr>\n    <tr>\n      <th>21524</th>\n      <td>2</td>\n      <td>1984.507589</td>\n      <td>40</td>\n      <td>среднее</td>\n      <td>1</td>\n      <td>женат / замужем</td>\n      <td>0</td>\n      <td>F</td>\n      <td>сотрудник</td>\n      <td>0</td>\n      <td>82047.418899</td>\n      <td>на покупку автомобиля</td>\n    </tr>\n  </tbody>\n</table>\n<p>21525 rows × 12 columns</p>\n</div>"
     },
     "execution_count": 4,
     "metadata": {},
     "output_type": "execute_result"
    }
   ],
   "source": [
    "df.loc[(df.days_employed < 0), 'days_employed'] = df.days_employed.abs()\n",
    "df.fillna(df['days_employed'].median(), inplace=True)\n",
    "df"
   ],
   "metadata": {
    "collapsed": false,
    "ExecuteTime": {
     "end_time": "2024-01-13T12:44:43.001233Z",
     "start_time": "2024-01-13T12:44:42.948792500Z"
    }
   },
   "id": "34d3c5af71bd1f47"
  },
  {
   "cell_type": "markdown",
   "source": [
    "данный блок кода проверяет каждое значение в столбце days_employed, и если оно отрицательно, то возвращеает  это же значение по модулю, а также заполняет пропуски медианным способом Возможно, отрицательность значений вызвана программным сбоем при заполнении значений "
   ],
   "metadata": {
    "collapsed": false
   },
   "id": "3e3154d410e3feae"
  },
  {
   "cell_type": "code",
   "execution_count": 5,
   "outputs": [
    {
     "data": {
      "text/plain": "       children  days_employed  dob_years education  education_id  \\\n0             1    8437.673028         42    высшее             0   \n1             1    4024.803754         36   среднее             1   \n2             0    5623.422610         33   Среднее             1   \n3             3    4124.747207         32   среднее             1   \n4             0  340266.072047         53   среднее             1   \n...         ...            ...        ...       ...           ...   \n21520         1    4529.316663         43   среднее             1   \n21521         0  343937.404131         67   среднее             1   \n21522         1    2113.346888         38   среднее             1   \n21523         3    3112.481705         38   среднее             1   \n21524         2    1984.507589         40   среднее             1   \n\n          family_status  family_status_id gender income_type  debt  \\\n0       женат / замужем                 0      F   сотрудник     0   \n1       женат / замужем                 0      F   сотрудник     0   \n2       женат / замужем                 0      M   сотрудник     0   \n3       женат / замужем                 0      M   сотрудник     0   \n4      гражданский брак                 1      F   пенсионер     0   \n...                 ...               ...    ...         ...   ...   \n21520  гражданский брак                 1      F   компаньон     0   \n21521   женат / замужем                 0      F   пенсионер     0   \n21522  гражданский брак                 1      M   сотрудник     1   \n21523   женат / замужем                 0      M   сотрудник     1   \n21524   женат / замужем                 0      F   сотрудник     0   \n\n       total_income                       purpose  \n0            253875                 покупка жилья  \n1            112080       приобретение автомобиля  \n2            145885                 покупка жилья  \n3            267628    дополнительное образование  \n4            158616               сыграть свадьбу  \n...             ...                           ...  \n21520        224791             операции с жильем  \n21521        155999          сделка с автомобилем  \n21522         89672                  недвижимость  \n21523        244093  на покупку своего автомобиля  \n21524         82047         на покупку автомобиля  \n\n[21525 rows x 12 columns]",
      "text/html": "<div>\n<style scoped>\n    .dataframe tbody tr th:only-of-type {\n        vertical-align: middle;\n    }\n\n    .dataframe tbody tr th {\n        vertical-align: top;\n    }\n\n    .dataframe thead th {\n        text-align: right;\n    }\n</style>\n<table border=\"1\" class=\"dataframe\">\n  <thead>\n    <tr style=\"text-align: right;\">\n      <th></th>\n      <th>children</th>\n      <th>days_employed</th>\n      <th>dob_years</th>\n      <th>education</th>\n      <th>education_id</th>\n      <th>family_status</th>\n      <th>family_status_id</th>\n      <th>gender</th>\n      <th>income_type</th>\n      <th>debt</th>\n      <th>total_income</th>\n      <th>purpose</th>\n    </tr>\n  </thead>\n  <tbody>\n    <tr>\n      <th>0</th>\n      <td>1</td>\n      <td>8437.673028</td>\n      <td>42</td>\n      <td>высшее</td>\n      <td>0</td>\n      <td>женат / замужем</td>\n      <td>0</td>\n      <td>F</td>\n      <td>сотрудник</td>\n      <td>0</td>\n      <td>253875</td>\n      <td>покупка жилья</td>\n    </tr>\n    <tr>\n      <th>1</th>\n      <td>1</td>\n      <td>4024.803754</td>\n      <td>36</td>\n      <td>среднее</td>\n      <td>1</td>\n      <td>женат / замужем</td>\n      <td>0</td>\n      <td>F</td>\n      <td>сотрудник</td>\n      <td>0</td>\n      <td>112080</td>\n      <td>приобретение автомобиля</td>\n    </tr>\n    <tr>\n      <th>2</th>\n      <td>0</td>\n      <td>5623.422610</td>\n      <td>33</td>\n      <td>Среднее</td>\n      <td>1</td>\n      <td>женат / замужем</td>\n      <td>0</td>\n      <td>M</td>\n      <td>сотрудник</td>\n      <td>0</td>\n      <td>145885</td>\n      <td>покупка жилья</td>\n    </tr>\n    <tr>\n      <th>3</th>\n      <td>3</td>\n      <td>4124.747207</td>\n      <td>32</td>\n      <td>среднее</td>\n      <td>1</td>\n      <td>женат / замужем</td>\n      <td>0</td>\n      <td>M</td>\n      <td>сотрудник</td>\n      <td>0</td>\n      <td>267628</td>\n      <td>дополнительное образование</td>\n    </tr>\n    <tr>\n      <th>4</th>\n      <td>0</td>\n      <td>340266.072047</td>\n      <td>53</td>\n      <td>среднее</td>\n      <td>1</td>\n      <td>гражданский брак</td>\n      <td>1</td>\n      <td>F</td>\n      <td>пенсионер</td>\n      <td>0</td>\n      <td>158616</td>\n      <td>сыграть свадьбу</td>\n    </tr>\n    <tr>\n      <th>...</th>\n      <td>...</td>\n      <td>...</td>\n      <td>...</td>\n      <td>...</td>\n      <td>...</td>\n      <td>...</td>\n      <td>...</td>\n      <td>...</td>\n      <td>...</td>\n      <td>...</td>\n      <td>...</td>\n      <td>...</td>\n    </tr>\n    <tr>\n      <th>21520</th>\n      <td>1</td>\n      <td>4529.316663</td>\n      <td>43</td>\n      <td>среднее</td>\n      <td>1</td>\n      <td>гражданский брак</td>\n      <td>1</td>\n      <td>F</td>\n      <td>компаньон</td>\n      <td>0</td>\n      <td>224791</td>\n      <td>операции с жильем</td>\n    </tr>\n    <tr>\n      <th>21521</th>\n      <td>0</td>\n      <td>343937.404131</td>\n      <td>67</td>\n      <td>среднее</td>\n      <td>1</td>\n      <td>женат / замужем</td>\n      <td>0</td>\n      <td>F</td>\n      <td>пенсионер</td>\n      <td>0</td>\n      <td>155999</td>\n      <td>сделка с автомобилем</td>\n    </tr>\n    <tr>\n      <th>21522</th>\n      <td>1</td>\n      <td>2113.346888</td>\n      <td>38</td>\n      <td>среднее</td>\n      <td>1</td>\n      <td>гражданский брак</td>\n      <td>1</td>\n      <td>M</td>\n      <td>сотрудник</td>\n      <td>1</td>\n      <td>89672</td>\n      <td>недвижимость</td>\n    </tr>\n    <tr>\n      <th>21523</th>\n      <td>3</td>\n      <td>3112.481705</td>\n      <td>38</td>\n      <td>среднее</td>\n      <td>1</td>\n      <td>женат / замужем</td>\n      <td>0</td>\n      <td>M</td>\n      <td>сотрудник</td>\n      <td>1</td>\n      <td>244093</td>\n      <td>на покупку своего автомобиля</td>\n    </tr>\n    <tr>\n      <th>21524</th>\n      <td>2</td>\n      <td>1984.507589</td>\n      <td>40</td>\n      <td>среднее</td>\n      <td>1</td>\n      <td>женат / замужем</td>\n      <td>0</td>\n      <td>F</td>\n      <td>сотрудник</td>\n      <td>0</td>\n      <td>82047</td>\n      <td>на покупку автомобиля</td>\n    </tr>\n  </tbody>\n</table>\n<p>21525 rows × 12 columns</p>\n</div>"
     },
     "execution_count": 5,
     "metadata": {},
     "output_type": "execute_result"
    }
   ],
   "source": [
    "df[['total_income']] = df[['total_income']].astype(int)\n",
    "df"
   ],
   "metadata": {
    "collapsed": false,
    "ExecuteTime": {
     "end_time": "2024-01-13T12:44:43.003233400Z",
     "start_time": "2024-01-13T12:44:42.975728700Z"
    }
   },
   "id": "da5bb59a8b284fbd"
  },
  {
   "cell_type": "markdown",
   "source": [
    "данный блок кода изменяет вещественный тип значений в столбце total_income на целочисленный, используя метод astype"
   ],
   "metadata": {
    "collapsed": false
   },
   "id": "75d11eaf4025e4d3"
  },
  {
   "cell_type": "code",
   "execution_count": 6,
   "outputs": [
    {
     "data": {
      "text/plain": "       children  days_employed  dob_years education  education_id  \\\n0             1    8437.673028         42    высшее             0   \n1             1    4024.803754         36   среднее             1   \n2             0    5623.422610         33   Среднее             1   \n3             3    4124.747207         32   среднее             1   \n4             0  340266.072047         53   среднее             1   \n...         ...            ...        ...       ...           ...   \n21520         1    4529.316663         43   среднее             1   \n21521         0  343937.404131         67   среднее             1   \n21522         1    2113.346888         38   среднее             1   \n21523         3    3112.481705         38   среднее             1   \n21524         2    1984.507589         40   среднее             1   \n\n          family_status  family_status_id gender income_type  debt  \\\n0       женат / замужем                 0      F   сотрудник     0   \n1       женат / замужем                 0      F   сотрудник     0   \n2       женат / замужем                 0      M   сотрудник     0   \n3       женат / замужем                 0      M   сотрудник     0   \n4      гражданский брак                 1      F   пенсионер     0   \n...                 ...               ...    ...         ...   ...   \n21520  гражданский брак                 1      F   компаньон     0   \n21521   женат / замужем                 0      F   пенсионер     0   \n21522  гражданский брак                 1      M   сотрудник     1   \n21523   женат / замужем                 0      M   сотрудник     1   \n21524   женат / замужем                 0      F   сотрудник     0   \n\n       total_income                       purpose  \n0            253875                 покупка жилья  \n1            112080       приобретение автомобиля  \n2            145885                 покупка жилья  \n3            267628    дополнительное образование  \n4            158616               сыграть свадьбу  \n...             ...                           ...  \n21520        224791             операции с жильем  \n21521        155999          сделка с автомобилем  \n21522         89672                  недвижимость  \n21523        244093  на покупку своего автомобиля  \n21524         82047         на покупку автомобиля  \n\n[21471 rows x 12 columns]",
      "text/html": "<div>\n<style scoped>\n    .dataframe tbody tr th:only-of-type {\n        vertical-align: middle;\n    }\n\n    .dataframe tbody tr th {\n        vertical-align: top;\n    }\n\n    .dataframe thead th {\n        text-align: right;\n    }\n</style>\n<table border=\"1\" class=\"dataframe\">\n  <thead>\n    <tr style=\"text-align: right;\">\n      <th></th>\n      <th>children</th>\n      <th>days_employed</th>\n      <th>dob_years</th>\n      <th>education</th>\n      <th>education_id</th>\n      <th>family_status</th>\n      <th>family_status_id</th>\n      <th>gender</th>\n      <th>income_type</th>\n      <th>debt</th>\n      <th>total_income</th>\n      <th>purpose</th>\n    </tr>\n  </thead>\n  <tbody>\n    <tr>\n      <th>0</th>\n      <td>1</td>\n      <td>8437.673028</td>\n      <td>42</td>\n      <td>высшее</td>\n      <td>0</td>\n      <td>женат / замужем</td>\n      <td>0</td>\n      <td>F</td>\n      <td>сотрудник</td>\n      <td>0</td>\n      <td>253875</td>\n      <td>покупка жилья</td>\n    </tr>\n    <tr>\n      <th>1</th>\n      <td>1</td>\n      <td>4024.803754</td>\n      <td>36</td>\n      <td>среднее</td>\n      <td>1</td>\n      <td>женат / замужем</td>\n      <td>0</td>\n      <td>F</td>\n      <td>сотрудник</td>\n      <td>0</td>\n      <td>112080</td>\n      <td>приобретение автомобиля</td>\n    </tr>\n    <tr>\n      <th>2</th>\n      <td>0</td>\n      <td>5623.422610</td>\n      <td>33</td>\n      <td>Среднее</td>\n      <td>1</td>\n      <td>женат / замужем</td>\n      <td>0</td>\n      <td>M</td>\n      <td>сотрудник</td>\n      <td>0</td>\n      <td>145885</td>\n      <td>покупка жилья</td>\n    </tr>\n    <tr>\n      <th>3</th>\n      <td>3</td>\n      <td>4124.747207</td>\n      <td>32</td>\n      <td>среднее</td>\n      <td>1</td>\n      <td>женат / замужем</td>\n      <td>0</td>\n      <td>M</td>\n      <td>сотрудник</td>\n      <td>0</td>\n      <td>267628</td>\n      <td>дополнительное образование</td>\n    </tr>\n    <tr>\n      <th>4</th>\n      <td>0</td>\n      <td>340266.072047</td>\n      <td>53</td>\n      <td>среднее</td>\n      <td>1</td>\n      <td>гражданский брак</td>\n      <td>1</td>\n      <td>F</td>\n      <td>пенсионер</td>\n      <td>0</td>\n      <td>158616</td>\n      <td>сыграть свадьбу</td>\n    </tr>\n    <tr>\n      <th>...</th>\n      <td>...</td>\n      <td>...</td>\n      <td>...</td>\n      <td>...</td>\n      <td>...</td>\n      <td>...</td>\n      <td>...</td>\n      <td>...</td>\n      <td>...</td>\n      <td>...</td>\n      <td>...</td>\n      <td>...</td>\n    </tr>\n    <tr>\n      <th>21520</th>\n      <td>1</td>\n      <td>4529.316663</td>\n      <td>43</td>\n      <td>среднее</td>\n      <td>1</td>\n      <td>гражданский брак</td>\n      <td>1</td>\n      <td>F</td>\n      <td>компаньон</td>\n      <td>0</td>\n      <td>224791</td>\n      <td>операции с жильем</td>\n    </tr>\n    <tr>\n      <th>21521</th>\n      <td>0</td>\n      <td>343937.404131</td>\n      <td>67</td>\n      <td>среднее</td>\n      <td>1</td>\n      <td>женат / замужем</td>\n      <td>0</td>\n      <td>F</td>\n      <td>пенсионер</td>\n      <td>0</td>\n      <td>155999</td>\n      <td>сделка с автомобилем</td>\n    </tr>\n    <tr>\n      <th>21522</th>\n      <td>1</td>\n      <td>2113.346888</td>\n      <td>38</td>\n      <td>среднее</td>\n      <td>1</td>\n      <td>гражданский брак</td>\n      <td>1</td>\n      <td>M</td>\n      <td>сотрудник</td>\n      <td>1</td>\n      <td>89672</td>\n      <td>недвижимость</td>\n    </tr>\n    <tr>\n      <th>21523</th>\n      <td>3</td>\n      <td>3112.481705</td>\n      <td>38</td>\n      <td>среднее</td>\n      <td>1</td>\n      <td>женат / замужем</td>\n      <td>0</td>\n      <td>M</td>\n      <td>сотрудник</td>\n      <td>1</td>\n      <td>244093</td>\n      <td>на покупку своего автомобиля</td>\n    </tr>\n    <tr>\n      <th>21524</th>\n      <td>2</td>\n      <td>1984.507589</td>\n      <td>40</td>\n      <td>среднее</td>\n      <td>1</td>\n      <td>женат / замужем</td>\n      <td>0</td>\n      <td>F</td>\n      <td>сотрудник</td>\n      <td>0</td>\n      <td>82047</td>\n      <td>на покупку автомобиля</td>\n    </tr>\n  </tbody>\n</table>\n<p>21471 rows × 12 columns</p>\n</div>"
     },
     "execution_count": 6,
     "metadata": {},
     "output_type": "execute_result"
    }
   ],
   "source": [
    "df = df.drop_duplicates()\n",
    "df"
   ],
   "metadata": {
    "collapsed": false,
    "ExecuteTime": {
     "end_time": "2024-01-13T12:44:43.096113500Z",
     "start_time": "2024-01-13T12:44:42.992231200Z"
    }
   },
   "id": "e873138c10009e51"
  },
  {
   "cell_type": "markdown",
   "source": [
    "используя метод drop_duplicates избавляемся от строк-дубликатов. Вероятно, дубликаты появились при объединении нескольких фреймов данных."
   ],
   "metadata": {
    "collapsed": false
   },
   "id": "6151f9fc31cd98fb"
  },
  {
   "cell_type": "code",
   "execution_count": 7,
   "outputs": [
    {
     "data": {
      "text/plain": "       children  days_employed  dob_years education  education_id  \\\n0             1    8437.673028         42    Высшее             0   \n1             1    4024.803754         36   Среднее             1   \n2             0    5623.422610         33   Среднее             1   \n3             3    4124.747207         32   Среднее             1   \n4             0  340266.072047         53   Среднее             1   \n...         ...            ...        ...       ...           ...   \n21520         1    4529.316663         43   Среднее             1   \n21521         0  343937.404131         67   Среднее             1   \n21522         1    2113.346888         38   Среднее             1   \n21523         3    3112.481705         38   Среднее             1   \n21524         2    1984.507589         40   Среднее             1   \n\n          family_status  family_status_id gender income_type  debt  \\\n0       женат / замужем                 0      F   сотрудник     0   \n1       женат / замужем                 0      F   сотрудник     0   \n2       женат / замужем                 0      M   сотрудник     0   \n3       женат / замужем                 0      M   сотрудник     0   \n4      гражданский брак                 1      F   пенсионер     0   \n...                 ...               ...    ...         ...   ...   \n21520  гражданский брак                 1      F   компаньон     0   \n21521   женат / замужем                 0      F   пенсионер     0   \n21522  гражданский брак                 1      M   сотрудник     1   \n21523   женат / замужем                 0      M   сотрудник     1   \n21524   женат / замужем                 0      F   сотрудник     0   \n\n       total_income                       purpose  \n0            253875                 покупка жилья  \n1            112080       приобретение автомобиля  \n2            145885                 покупка жилья  \n3            267628    дополнительное образование  \n4            158616               сыграть свадьбу  \n...             ...                           ...  \n21520        224791             операции с жильем  \n21521        155999          сделка с автомобилем  \n21522         89672                  недвижимость  \n21523        244093  на покупку своего автомобиля  \n21524         82047         на покупку автомобиля  \n\n[21471 rows x 12 columns]",
      "text/html": "<div>\n<style scoped>\n    .dataframe tbody tr th:only-of-type {\n        vertical-align: middle;\n    }\n\n    .dataframe tbody tr th {\n        vertical-align: top;\n    }\n\n    .dataframe thead th {\n        text-align: right;\n    }\n</style>\n<table border=\"1\" class=\"dataframe\">\n  <thead>\n    <tr style=\"text-align: right;\">\n      <th></th>\n      <th>children</th>\n      <th>days_employed</th>\n      <th>dob_years</th>\n      <th>education</th>\n      <th>education_id</th>\n      <th>family_status</th>\n      <th>family_status_id</th>\n      <th>gender</th>\n      <th>income_type</th>\n      <th>debt</th>\n      <th>total_income</th>\n      <th>purpose</th>\n    </tr>\n  </thead>\n  <tbody>\n    <tr>\n      <th>0</th>\n      <td>1</td>\n      <td>8437.673028</td>\n      <td>42</td>\n      <td>Высшее</td>\n      <td>0</td>\n      <td>женат / замужем</td>\n      <td>0</td>\n      <td>F</td>\n      <td>сотрудник</td>\n      <td>0</td>\n      <td>253875</td>\n      <td>покупка жилья</td>\n    </tr>\n    <tr>\n      <th>1</th>\n      <td>1</td>\n      <td>4024.803754</td>\n      <td>36</td>\n      <td>Среднее</td>\n      <td>1</td>\n      <td>женат / замужем</td>\n      <td>0</td>\n      <td>F</td>\n      <td>сотрудник</td>\n      <td>0</td>\n      <td>112080</td>\n      <td>приобретение автомобиля</td>\n    </tr>\n    <tr>\n      <th>2</th>\n      <td>0</td>\n      <td>5623.422610</td>\n      <td>33</td>\n      <td>Среднее</td>\n      <td>1</td>\n      <td>женат / замужем</td>\n      <td>0</td>\n      <td>M</td>\n      <td>сотрудник</td>\n      <td>0</td>\n      <td>145885</td>\n      <td>покупка жилья</td>\n    </tr>\n    <tr>\n      <th>3</th>\n      <td>3</td>\n      <td>4124.747207</td>\n      <td>32</td>\n      <td>Среднее</td>\n      <td>1</td>\n      <td>женат / замужем</td>\n      <td>0</td>\n      <td>M</td>\n      <td>сотрудник</td>\n      <td>0</td>\n      <td>267628</td>\n      <td>дополнительное образование</td>\n    </tr>\n    <tr>\n      <th>4</th>\n      <td>0</td>\n      <td>340266.072047</td>\n      <td>53</td>\n      <td>Среднее</td>\n      <td>1</td>\n      <td>гражданский брак</td>\n      <td>1</td>\n      <td>F</td>\n      <td>пенсионер</td>\n      <td>0</td>\n      <td>158616</td>\n      <td>сыграть свадьбу</td>\n    </tr>\n    <tr>\n      <th>...</th>\n      <td>...</td>\n      <td>...</td>\n      <td>...</td>\n      <td>...</td>\n      <td>...</td>\n      <td>...</td>\n      <td>...</td>\n      <td>...</td>\n      <td>...</td>\n      <td>...</td>\n      <td>...</td>\n      <td>...</td>\n    </tr>\n    <tr>\n      <th>21520</th>\n      <td>1</td>\n      <td>4529.316663</td>\n      <td>43</td>\n      <td>Среднее</td>\n      <td>1</td>\n      <td>гражданский брак</td>\n      <td>1</td>\n      <td>F</td>\n      <td>компаньон</td>\n      <td>0</td>\n      <td>224791</td>\n      <td>операции с жильем</td>\n    </tr>\n    <tr>\n      <th>21521</th>\n      <td>0</td>\n      <td>343937.404131</td>\n      <td>67</td>\n      <td>Среднее</td>\n      <td>1</td>\n      <td>женат / замужем</td>\n      <td>0</td>\n      <td>F</td>\n      <td>пенсионер</td>\n      <td>0</td>\n      <td>155999</td>\n      <td>сделка с автомобилем</td>\n    </tr>\n    <tr>\n      <th>21522</th>\n      <td>1</td>\n      <td>2113.346888</td>\n      <td>38</td>\n      <td>Среднее</td>\n      <td>1</td>\n      <td>гражданский брак</td>\n      <td>1</td>\n      <td>M</td>\n      <td>сотрудник</td>\n      <td>1</td>\n      <td>89672</td>\n      <td>недвижимость</td>\n    </tr>\n    <tr>\n      <th>21523</th>\n      <td>3</td>\n      <td>3112.481705</td>\n      <td>38</td>\n      <td>Среднее</td>\n      <td>1</td>\n      <td>женат / замужем</td>\n      <td>0</td>\n      <td>M</td>\n      <td>сотрудник</td>\n      <td>1</td>\n      <td>244093</td>\n      <td>на покупку своего автомобиля</td>\n    </tr>\n    <tr>\n      <th>21524</th>\n      <td>2</td>\n      <td>1984.507589</td>\n      <td>40</td>\n      <td>Среднее</td>\n      <td>1</td>\n      <td>женат / замужем</td>\n      <td>0</td>\n      <td>F</td>\n      <td>сотрудник</td>\n      <td>0</td>\n      <td>82047</td>\n      <td>на покупку автомобиля</td>\n    </tr>\n  </tbody>\n</table>\n<p>21471 rows × 12 columns</p>\n</div>"
     },
     "execution_count": 7,
     "metadata": {},
     "output_type": "execute_result"
    }
   ],
   "source": [
    "df['education'] = df['education'].str.capitalize()\n",
    "df"
   ],
   "metadata": {
    "collapsed": false,
    "ExecuteTime": {
     "end_time": "2024-01-13T12:44:43.122119400Z",
     "start_time": "2024-01-13T12:44:43.025230900Z"
    }
   },
   "id": "81c633faf270ae6a"
  },
  {
   "cell_type": "markdown",
   "source": [
    "В данном блоке кода мы выбираем столбец education и используя метод str.capitalize приводим значения в нем к одному регистру, а именно - первая буква заглавная, остальные строчные. Также в этом же блоке "
   ],
   "metadata": {
    "collapsed": false
   },
   "id": "ca06f759d7ca46ca"
  },
  {
   "cell_type": "code",
   "execution_count": 8,
   "outputs": [
    {
     "data": {
      "text/plain": "                education  education_id\n0                  Высшее             0\n1                 Среднее             1\n13    Неоконченное высшее             2\n31              Начальное             3\n2963       Ученая степень             4",
      "text/html": "<div>\n<style scoped>\n    .dataframe tbody tr th:only-of-type {\n        vertical-align: middle;\n    }\n\n    .dataframe tbody tr th {\n        vertical-align: top;\n    }\n\n    .dataframe thead th {\n        text-align: right;\n    }\n</style>\n<table border=\"1\" class=\"dataframe\">\n  <thead>\n    <tr style=\"text-align: right;\">\n      <th></th>\n      <th>education</th>\n      <th>education_id</th>\n    </tr>\n  </thead>\n  <tbody>\n    <tr>\n      <th>0</th>\n      <td>Высшее</td>\n      <td>0</td>\n    </tr>\n    <tr>\n      <th>1</th>\n      <td>Среднее</td>\n      <td>1</td>\n    </tr>\n    <tr>\n      <th>13</th>\n      <td>Неоконченное высшее</td>\n      <td>2</td>\n    </tr>\n    <tr>\n      <th>31</th>\n      <td>Начальное</td>\n      <td>3</td>\n    </tr>\n    <tr>\n      <th>2963</th>\n      <td>Ученая степень</td>\n      <td>4</td>\n    </tr>\n  </tbody>\n</table>\n</div>"
     },
     "execution_count": 8,
     "metadata": {},
     "output_type": "execute_result"
    }
   ],
   "source": [
    "dfED = pd.DataFrame({'education': df['education'].drop_duplicates(), 'education_id':  df['education_id'].drop_duplicates()})\n",
    "dfED"
   ],
   "metadata": {
    "collapsed": false,
    "ExecuteTime": {
     "end_time": "2024-01-13T12:44:43.182132900Z",
     "start_time": "2024-01-13T12:44:43.044139900Z"
    }
   },
   "id": "7be3076b858ad6f6"
  },
  {
   "cell_type": "code",
   "execution_count": 9,
   "outputs": [
    {
     "data": {
      "text/plain": "            family_status  family_status_id\n0         женат / замужем                 0\n4        гражданский брак                 1\n18         вдовец / вдова                 2\n19              в разводе                 3\n24  Не женат / не замужем                 4",
      "text/html": "<div>\n<style scoped>\n    .dataframe tbody tr th:only-of-type {\n        vertical-align: middle;\n    }\n\n    .dataframe tbody tr th {\n        vertical-align: top;\n    }\n\n    .dataframe thead th {\n        text-align: right;\n    }\n</style>\n<table border=\"1\" class=\"dataframe\">\n  <thead>\n    <tr style=\"text-align: right;\">\n      <th></th>\n      <th>family_status</th>\n      <th>family_status_id</th>\n    </tr>\n  </thead>\n  <tbody>\n    <tr>\n      <th>0</th>\n      <td>женат / замужем</td>\n      <td>0</td>\n    </tr>\n    <tr>\n      <th>4</th>\n      <td>гражданский брак</td>\n      <td>1</td>\n    </tr>\n    <tr>\n      <th>18</th>\n      <td>вдовец / вдова</td>\n      <td>2</td>\n    </tr>\n    <tr>\n      <th>19</th>\n      <td>в разводе</td>\n      <td>3</td>\n    </tr>\n    <tr>\n      <th>24</th>\n      <td>Не женат / не замужем</td>\n      <td>4</td>\n    </tr>\n  </tbody>\n</table>\n</div>"
     },
     "execution_count": 9,
     "metadata": {},
     "output_type": "execute_result"
    }
   ],
   "source": [
    "dfFAM_STAT = pd.DataFrame({'family_status': df['family_status'].drop_duplicates(), 'family_status_id':  df['family_status_id'].drop_duplicates()})\n",
    "dfFAM_STAT"
   ],
   "metadata": {
    "collapsed": false,
    "ExecuteTime": {
     "end_time": "2024-01-13T12:44:43.183133200Z",
     "start_time": "2024-01-13T12:44:43.055336500Z"
    }
   },
   "id": "a529bb7c9e513094"
  },
  {
   "cell_type": "markdown",
   "source": [
    "В двух предыдущих блоках мы создали два новых датафрейма, в которых хранятся значения уровня образования и его id в первом и статус семьи и его id во втором соответственно"
   ],
   "metadata": {
    "collapsed": false
   },
   "id": "4b27027640effe0"
  },
  {
   "cell_type": "code",
   "execution_count": 10,
   "outputs": [
    {
     "data": {
      "text/plain": "       children  days_employed  dob_years  education_id  family_status_id  \\\n0             1    8437.673028         42             0                 0   \n1             1    4024.803754         36             1                 0   \n2             0    5623.422610         33             1                 0   \n3             3    4124.747207         32             1                 0   \n4             0  340266.072047         53             1                 1   \n...         ...            ...        ...           ...               ...   \n21520         1    4529.316663         43             1                 1   \n21521         0  343937.404131         67             1                 0   \n21522         1    2113.346888         38             1                 1   \n21523         3    3112.481705         38             1                 0   \n21524         2    1984.507589         40             1                 0   \n\n      gender income_type  debt  total_income                       purpose  \n0          F   сотрудник     0        253875                 покупка жилья  \n1          F   сотрудник     0        112080       приобретение автомобиля  \n2          M   сотрудник     0        145885                 покупка жилья  \n3          M   сотрудник     0        267628    дополнительное образование  \n4          F   пенсионер     0        158616               сыграть свадьбу  \n...      ...         ...   ...           ...                           ...  \n21520      F   компаньон     0        224791             операции с жильем  \n21521      F   пенсионер     0        155999          сделка с автомобилем  \n21522      M   сотрудник     1         89672                  недвижимость  \n21523      M   сотрудник     1        244093  на покупку своего автомобиля  \n21524      F   сотрудник     0         82047         на покупку автомобиля  \n\n[21471 rows x 10 columns]",
      "text/html": "<div>\n<style scoped>\n    .dataframe tbody tr th:only-of-type {\n        vertical-align: middle;\n    }\n\n    .dataframe tbody tr th {\n        vertical-align: top;\n    }\n\n    .dataframe thead th {\n        text-align: right;\n    }\n</style>\n<table border=\"1\" class=\"dataframe\">\n  <thead>\n    <tr style=\"text-align: right;\">\n      <th></th>\n      <th>children</th>\n      <th>days_employed</th>\n      <th>dob_years</th>\n      <th>education_id</th>\n      <th>family_status_id</th>\n      <th>gender</th>\n      <th>income_type</th>\n      <th>debt</th>\n      <th>total_income</th>\n      <th>purpose</th>\n    </tr>\n  </thead>\n  <tbody>\n    <tr>\n      <th>0</th>\n      <td>1</td>\n      <td>8437.673028</td>\n      <td>42</td>\n      <td>0</td>\n      <td>0</td>\n      <td>F</td>\n      <td>сотрудник</td>\n      <td>0</td>\n      <td>253875</td>\n      <td>покупка жилья</td>\n    </tr>\n    <tr>\n      <th>1</th>\n      <td>1</td>\n      <td>4024.803754</td>\n      <td>36</td>\n      <td>1</td>\n      <td>0</td>\n      <td>F</td>\n      <td>сотрудник</td>\n      <td>0</td>\n      <td>112080</td>\n      <td>приобретение автомобиля</td>\n    </tr>\n    <tr>\n      <th>2</th>\n      <td>0</td>\n      <td>5623.422610</td>\n      <td>33</td>\n      <td>1</td>\n      <td>0</td>\n      <td>M</td>\n      <td>сотрудник</td>\n      <td>0</td>\n      <td>145885</td>\n      <td>покупка жилья</td>\n    </tr>\n    <tr>\n      <th>3</th>\n      <td>3</td>\n      <td>4124.747207</td>\n      <td>32</td>\n      <td>1</td>\n      <td>0</td>\n      <td>M</td>\n      <td>сотрудник</td>\n      <td>0</td>\n      <td>267628</td>\n      <td>дополнительное образование</td>\n    </tr>\n    <tr>\n      <th>4</th>\n      <td>0</td>\n      <td>340266.072047</td>\n      <td>53</td>\n      <td>1</td>\n      <td>1</td>\n      <td>F</td>\n      <td>пенсионер</td>\n      <td>0</td>\n      <td>158616</td>\n      <td>сыграть свадьбу</td>\n    </tr>\n    <tr>\n      <th>...</th>\n      <td>...</td>\n      <td>...</td>\n      <td>...</td>\n      <td>...</td>\n      <td>...</td>\n      <td>...</td>\n      <td>...</td>\n      <td>...</td>\n      <td>...</td>\n      <td>...</td>\n    </tr>\n    <tr>\n      <th>21520</th>\n      <td>1</td>\n      <td>4529.316663</td>\n      <td>43</td>\n      <td>1</td>\n      <td>1</td>\n      <td>F</td>\n      <td>компаньон</td>\n      <td>0</td>\n      <td>224791</td>\n      <td>операции с жильем</td>\n    </tr>\n    <tr>\n      <th>21521</th>\n      <td>0</td>\n      <td>343937.404131</td>\n      <td>67</td>\n      <td>1</td>\n      <td>0</td>\n      <td>F</td>\n      <td>пенсионер</td>\n      <td>0</td>\n      <td>155999</td>\n      <td>сделка с автомобилем</td>\n    </tr>\n    <tr>\n      <th>21522</th>\n      <td>1</td>\n      <td>2113.346888</td>\n      <td>38</td>\n      <td>1</td>\n      <td>1</td>\n      <td>M</td>\n      <td>сотрудник</td>\n      <td>1</td>\n      <td>89672</td>\n      <td>недвижимость</td>\n    </tr>\n    <tr>\n      <th>21523</th>\n      <td>3</td>\n      <td>3112.481705</td>\n      <td>38</td>\n      <td>1</td>\n      <td>0</td>\n      <td>M</td>\n      <td>сотрудник</td>\n      <td>1</td>\n      <td>244093</td>\n      <td>на покупку своего автомобиля</td>\n    </tr>\n    <tr>\n      <th>21524</th>\n      <td>2</td>\n      <td>1984.507589</td>\n      <td>40</td>\n      <td>1</td>\n      <td>0</td>\n      <td>F</td>\n      <td>сотрудник</td>\n      <td>0</td>\n      <td>82047</td>\n      <td>на покупку автомобиля</td>\n    </tr>\n  </tbody>\n</table>\n<p>21471 rows × 10 columns</p>\n</div>"
     },
     "execution_count": 10,
     "metadata": {},
     "output_type": "execute_result"
    }
   ],
   "source": [
    "df = df.drop(columns=['education','family_status'])\n",
    "df"
   ],
   "metadata": {
    "collapsed": false,
    "ExecuteTime": {
     "end_time": "2024-01-13T12:44:43.198136500Z",
     "start_time": "2024-01-13T12:44:43.062391400Z"
    }
   },
   "id": "867421a4ebb12d60"
  },
  {
   "cell_type": "markdown",
   "source": [
    "удаляем столбцы education и family_status"
   ],
   "metadata": {
    "collapsed": false
   },
   "id": "e02dd4cd897b159f"
  },
  {
   "cell_type": "code",
   "execution_count": 11,
   "outputs": [
    {
     "data": {
      "text/plain": "       children  days_employed  dob_years  education_id  family_status_id  \\\n0             1    8437.673028         42             0                 0   \n1             1    4024.803754         36             1                 0   \n2             0    5623.422610         33             1                 0   \n3             3    4124.747207         32             1                 0   \n4             0  340266.072047         53             1                 1   \n...         ...            ...        ...           ...               ...   \n21520         1    4529.316663         43             1                 1   \n21521         0  343937.404131         67             1                 0   \n21522         1    2113.346888         38             1                 1   \n21523         3    3112.481705         38             1                 0   \n21524         2    1984.507589         40             1                 0   \n\n      gender income_type  debt  total_income                       purpose  \\\n0          F   сотрудник     0        253875                 покупка жилья   \n1          F   сотрудник     0        112080       приобретение автомобиля   \n2          M   сотрудник     0        145885                 покупка жилья   \n3          M   сотрудник     0        267628    дополнительное образование   \n4          F   пенсионер     0        158616               сыграть свадьбу   \n...      ...         ...   ...           ...                           ...   \n21520      F   компаньон     0        224791             операции с жильем   \n21521      F   пенсионер     0        155999          сделка с автомобилем   \n21522      M   сотрудник     1         89672                  недвижимость   \n21523      M   сотрудник     1        244093  на покупку своего автомобиля   \n21524      F   сотрудник     0         82047         на покупку автомобиля   \n\n      total_income_category  \n0                         B  \n1                         C  \n2                         C  \n3                         B  \n4                         C  \n...                     ...  \n21520                     B  \n21521                     C  \n21522                     C  \n21523                     B  \n21524                     C  \n\n[21471 rows x 11 columns]",
      "text/html": "<div>\n<style scoped>\n    .dataframe tbody tr th:only-of-type {\n        vertical-align: middle;\n    }\n\n    .dataframe tbody tr th {\n        vertical-align: top;\n    }\n\n    .dataframe thead th {\n        text-align: right;\n    }\n</style>\n<table border=\"1\" class=\"dataframe\">\n  <thead>\n    <tr style=\"text-align: right;\">\n      <th></th>\n      <th>children</th>\n      <th>days_employed</th>\n      <th>dob_years</th>\n      <th>education_id</th>\n      <th>family_status_id</th>\n      <th>gender</th>\n      <th>income_type</th>\n      <th>debt</th>\n      <th>total_income</th>\n      <th>purpose</th>\n      <th>total_income_category</th>\n    </tr>\n  </thead>\n  <tbody>\n    <tr>\n      <th>0</th>\n      <td>1</td>\n      <td>8437.673028</td>\n      <td>42</td>\n      <td>0</td>\n      <td>0</td>\n      <td>F</td>\n      <td>сотрудник</td>\n      <td>0</td>\n      <td>253875</td>\n      <td>покупка жилья</td>\n      <td>B</td>\n    </tr>\n    <tr>\n      <th>1</th>\n      <td>1</td>\n      <td>4024.803754</td>\n      <td>36</td>\n      <td>1</td>\n      <td>0</td>\n      <td>F</td>\n      <td>сотрудник</td>\n      <td>0</td>\n      <td>112080</td>\n      <td>приобретение автомобиля</td>\n      <td>C</td>\n    </tr>\n    <tr>\n      <th>2</th>\n      <td>0</td>\n      <td>5623.422610</td>\n      <td>33</td>\n      <td>1</td>\n      <td>0</td>\n      <td>M</td>\n      <td>сотрудник</td>\n      <td>0</td>\n      <td>145885</td>\n      <td>покупка жилья</td>\n      <td>C</td>\n    </tr>\n    <tr>\n      <th>3</th>\n      <td>3</td>\n      <td>4124.747207</td>\n      <td>32</td>\n      <td>1</td>\n      <td>0</td>\n      <td>M</td>\n      <td>сотрудник</td>\n      <td>0</td>\n      <td>267628</td>\n      <td>дополнительное образование</td>\n      <td>B</td>\n    </tr>\n    <tr>\n      <th>4</th>\n      <td>0</td>\n      <td>340266.072047</td>\n      <td>53</td>\n      <td>1</td>\n      <td>1</td>\n      <td>F</td>\n      <td>пенсионер</td>\n      <td>0</td>\n      <td>158616</td>\n      <td>сыграть свадьбу</td>\n      <td>C</td>\n    </tr>\n    <tr>\n      <th>...</th>\n      <td>...</td>\n      <td>...</td>\n      <td>...</td>\n      <td>...</td>\n      <td>...</td>\n      <td>...</td>\n      <td>...</td>\n      <td>...</td>\n      <td>...</td>\n      <td>...</td>\n      <td>...</td>\n    </tr>\n    <tr>\n      <th>21520</th>\n      <td>1</td>\n      <td>4529.316663</td>\n      <td>43</td>\n      <td>1</td>\n      <td>1</td>\n      <td>F</td>\n      <td>компаньон</td>\n      <td>0</td>\n      <td>224791</td>\n      <td>операции с жильем</td>\n      <td>B</td>\n    </tr>\n    <tr>\n      <th>21521</th>\n      <td>0</td>\n      <td>343937.404131</td>\n      <td>67</td>\n      <td>1</td>\n      <td>0</td>\n      <td>F</td>\n      <td>пенсионер</td>\n      <td>0</td>\n      <td>155999</td>\n      <td>сделка с автомобилем</td>\n      <td>C</td>\n    </tr>\n    <tr>\n      <th>21522</th>\n      <td>1</td>\n      <td>2113.346888</td>\n      <td>38</td>\n      <td>1</td>\n      <td>1</td>\n      <td>M</td>\n      <td>сотрудник</td>\n      <td>1</td>\n      <td>89672</td>\n      <td>недвижимость</td>\n      <td>C</td>\n    </tr>\n    <tr>\n      <th>21523</th>\n      <td>3</td>\n      <td>3112.481705</td>\n      <td>38</td>\n      <td>1</td>\n      <td>0</td>\n      <td>M</td>\n      <td>сотрудник</td>\n      <td>1</td>\n      <td>244093</td>\n      <td>на покупку своего автомобиля</td>\n      <td>B</td>\n    </tr>\n    <tr>\n      <th>21524</th>\n      <td>2</td>\n      <td>1984.507589</td>\n      <td>40</td>\n      <td>1</td>\n      <td>0</td>\n      <td>F</td>\n      <td>сотрудник</td>\n      <td>0</td>\n      <td>82047</td>\n      <td>на покупку автомобиля</td>\n      <td>C</td>\n    </tr>\n  </tbody>\n</table>\n<p>21471 rows × 11 columns</p>\n</div>"
     },
     "execution_count": 11,
     "metadata": {},
     "output_type": "execute_result"
    }
   ],
   "source": [
    "def tot_inc_cat(row):\n",
    "    if row['total_income'] <= 30000:\n",
    "        return \"E\"\n",
    "    elif row['total_income'] >= 30001 and row['total_income'] <= 50000:\n",
    "        return \"D\"\n",
    "    elif row['total_income'] >= 50001 and row['total_income'] <= 200000:\n",
    "        return \"C\"\n",
    "    elif row['total_income'] >= 200001 and row['total_income'] <= 1000000:\n",
    "        return \"B\"\n",
    "    else:\n",
    "        return \"A\"\n",
    "    \n",
    "df['total_income_category'] = df.apply(tot_inc_cat, axis=1)\n",
    "df"
   ],
   "metadata": {
    "collapsed": false,
    "ExecuteTime": {
     "end_time": "2024-01-13T12:44:43.495181700Z",
     "start_time": "2024-01-13T12:44:43.074108800Z"
    }
   },
   "id": "f7f3797d2cdc4c1a"
  },
  {
   "cell_type": "markdown",
   "source": [
    "Разделяем категории заработка"
   ],
   "metadata": {
    "collapsed": false
   },
   "id": "7b7be886974ab313"
  },
  {
   "cell_type": "code",
   "execution_count": 12,
   "outputs": [
    {
     "data": {
      "text/plain": "       children  days_employed  dob_years  education_id  family_status_id  \\\n0             1    8437.673028         42             0                 0   \n1             1    4024.803754         36             1                 0   \n2             0    5623.422610         33             1                 0   \n3             3    4124.747207         32             1                 0   \n4             0  340266.072047         53             1                 1   \n...         ...            ...        ...           ...               ...   \n21520         1    4529.316663         43             1                 1   \n21521         0  343937.404131         67             1                 0   \n21522         1    2113.346888         38             1                 1   \n21523         3    3112.481705         38             1                 0   \n21524         2    1984.507589         40             1                 0   \n\n      gender income_type  debt  total_income                       purpose  \\\n0          F   сотрудник     0        253875                 покупка жилья   \n1          F   сотрудник     0        112080       приобретение автомобиля   \n2          M   сотрудник     0        145885                 покупка жилья   \n3          M   сотрудник     0        267628    дополнительное образование   \n4          F   пенсионер     0        158616               сыграть свадьбу   \n...      ...         ...   ...           ...                           ...   \n21520      F   компаньон     0        224791             операции с жильем   \n21521      F   пенсионер     0        155999          сделка с автомобилем   \n21522      M   сотрудник     1         89672                  недвижимость   \n21523      M   сотрудник     1        244093  на покупку своего автомобиля   \n21524      F   сотрудник     0         82047         на покупку автомобиля   \n\n      total_income_category          purpose_category  \n0                         B  Операции с недвижимостью  \n1                         C    Операции с автомобилем  \n2                         C  Операции с недвижимостью  \n3                         B     Получение образования  \n4                         C        Проведение свадьбы  \n...                     ...                       ...  \n21520                     B  Операции с недвижимостью  \n21521                     C    Операции с автомобилем  \n21522                     C  Операции с недвижимостью  \n21523                     B    Операции с автомобилем  \n21524                     C    Операции с автомобилем  \n\n[21471 rows x 12 columns]",
      "text/html": "<div>\n<style scoped>\n    .dataframe tbody tr th:only-of-type {\n        vertical-align: middle;\n    }\n\n    .dataframe tbody tr th {\n        vertical-align: top;\n    }\n\n    .dataframe thead th {\n        text-align: right;\n    }\n</style>\n<table border=\"1\" class=\"dataframe\">\n  <thead>\n    <tr style=\"text-align: right;\">\n      <th></th>\n      <th>children</th>\n      <th>days_employed</th>\n      <th>dob_years</th>\n      <th>education_id</th>\n      <th>family_status_id</th>\n      <th>gender</th>\n      <th>income_type</th>\n      <th>debt</th>\n      <th>total_income</th>\n      <th>purpose</th>\n      <th>total_income_category</th>\n      <th>purpose_category</th>\n    </tr>\n  </thead>\n  <tbody>\n    <tr>\n      <th>0</th>\n      <td>1</td>\n      <td>8437.673028</td>\n      <td>42</td>\n      <td>0</td>\n      <td>0</td>\n      <td>F</td>\n      <td>сотрудник</td>\n      <td>0</td>\n      <td>253875</td>\n      <td>покупка жилья</td>\n      <td>B</td>\n      <td>Операции с недвижимостью</td>\n    </tr>\n    <tr>\n      <th>1</th>\n      <td>1</td>\n      <td>4024.803754</td>\n      <td>36</td>\n      <td>1</td>\n      <td>0</td>\n      <td>F</td>\n      <td>сотрудник</td>\n      <td>0</td>\n      <td>112080</td>\n      <td>приобретение автомобиля</td>\n      <td>C</td>\n      <td>Операции с автомобилем</td>\n    </tr>\n    <tr>\n      <th>2</th>\n      <td>0</td>\n      <td>5623.422610</td>\n      <td>33</td>\n      <td>1</td>\n      <td>0</td>\n      <td>M</td>\n      <td>сотрудник</td>\n      <td>0</td>\n      <td>145885</td>\n      <td>покупка жилья</td>\n      <td>C</td>\n      <td>Операции с недвижимостью</td>\n    </tr>\n    <tr>\n      <th>3</th>\n      <td>3</td>\n      <td>4124.747207</td>\n      <td>32</td>\n      <td>1</td>\n      <td>0</td>\n      <td>M</td>\n      <td>сотрудник</td>\n      <td>0</td>\n      <td>267628</td>\n      <td>дополнительное образование</td>\n      <td>B</td>\n      <td>Получение образования</td>\n    </tr>\n    <tr>\n      <th>4</th>\n      <td>0</td>\n      <td>340266.072047</td>\n      <td>53</td>\n      <td>1</td>\n      <td>1</td>\n      <td>F</td>\n      <td>пенсионер</td>\n      <td>0</td>\n      <td>158616</td>\n      <td>сыграть свадьбу</td>\n      <td>C</td>\n      <td>Проведение свадьбы</td>\n    </tr>\n    <tr>\n      <th>...</th>\n      <td>...</td>\n      <td>...</td>\n      <td>...</td>\n      <td>...</td>\n      <td>...</td>\n      <td>...</td>\n      <td>...</td>\n      <td>...</td>\n      <td>...</td>\n      <td>...</td>\n      <td>...</td>\n      <td>...</td>\n    </tr>\n    <tr>\n      <th>21520</th>\n      <td>1</td>\n      <td>4529.316663</td>\n      <td>43</td>\n      <td>1</td>\n      <td>1</td>\n      <td>F</td>\n      <td>компаньон</td>\n      <td>0</td>\n      <td>224791</td>\n      <td>операции с жильем</td>\n      <td>B</td>\n      <td>Операции с недвижимостью</td>\n    </tr>\n    <tr>\n      <th>21521</th>\n      <td>0</td>\n      <td>343937.404131</td>\n      <td>67</td>\n      <td>1</td>\n      <td>0</td>\n      <td>F</td>\n      <td>пенсионер</td>\n      <td>0</td>\n      <td>155999</td>\n      <td>сделка с автомобилем</td>\n      <td>C</td>\n      <td>Операции с автомобилем</td>\n    </tr>\n    <tr>\n      <th>21522</th>\n      <td>1</td>\n      <td>2113.346888</td>\n      <td>38</td>\n      <td>1</td>\n      <td>1</td>\n      <td>M</td>\n      <td>сотрудник</td>\n      <td>1</td>\n      <td>89672</td>\n      <td>недвижимость</td>\n      <td>C</td>\n      <td>Операции с недвижимостью</td>\n    </tr>\n    <tr>\n      <th>21523</th>\n      <td>3</td>\n      <td>3112.481705</td>\n      <td>38</td>\n      <td>1</td>\n      <td>0</td>\n      <td>M</td>\n      <td>сотрудник</td>\n      <td>1</td>\n      <td>244093</td>\n      <td>на покупку своего автомобиля</td>\n      <td>B</td>\n      <td>Операции с автомобилем</td>\n    </tr>\n    <tr>\n      <th>21524</th>\n      <td>2</td>\n      <td>1984.507589</td>\n      <td>40</td>\n      <td>1</td>\n      <td>0</td>\n      <td>F</td>\n      <td>сотрудник</td>\n      <td>0</td>\n      <td>82047</td>\n      <td>на покупку автомобиля</td>\n      <td>C</td>\n      <td>Операции с автомобилем</td>\n    </tr>\n  </tbody>\n</table>\n<p>21471 rows × 12 columns</p>\n</div>"
     },
     "execution_count": 12,
     "metadata": {},
     "output_type": "execute_result"
    }
   ],
   "source": [
    "def purp_cat(row):\n",
    "    if 'авто' in row['purpose']:\n",
    "        return 'Операции с автомобилем'\n",
    "    elif 'недвиж' in row['purpose'] or 'жил' in row['purpose']:\n",
    "        return 'Операции с недвижимостью'\n",
    "    elif 'свадьб' in row['purpose']:\n",
    "        return 'Проведение свадьбы'\n",
    "    else:\n",
    "        return 'Получение образования'\n",
    "\n",
    "df['purpose_category'] = df.apply(purp_cat, axis=1)\n",
    "df"
   ],
   "metadata": {
    "collapsed": false,
    "ExecuteTime": {
     "end_time": "2024-01-13T12:44:43.623406600Z",
     "start_time": "2024-01-13T12:44:43.324143100Z"
    }
   },
   "id": "80b423d1444edf45"
  },
  {
   "cell_type": "markdown",
   "source": [
    "Приводим цели получения кредита к общему виду"
   ],
   "metadata": {
    "collapsed": false
   },
   "id": "7a2c531c75a09fa8"
  },
  {
   "cell_type": "code",
   "execution_count": 12,
   "outputs": [],
   "source": [],
   "metadata": {
    "collapsed": false,
    "ExecuteTime": {
     "end_time": "2024-01-13T12:44:43.623406600Z",
     "start_time": "2024-01-13T12:44:43.522346800Z"
    }
   },
   "id": "fb2dae148ac38960"
  }
 ],
 "metadata": {
  "kernelspec": {
   "display_name": "Python 3",
   "language": "python",
   "name": "python3"
  },
  "language_info": {
   "codemirror_mode": {
    "name": "ipython",
    "version": 2
   },
   "file_extension": ".py",
   "mimetype": "text/x-python",
   "name": "python",
   "nbconvert_exporter": "python",
   "pygments_lexer": "ipython2",
   "version": "2.7.6"
  }
 },
 "nbformat": 4,
 "nbformat_minor": 5
}
